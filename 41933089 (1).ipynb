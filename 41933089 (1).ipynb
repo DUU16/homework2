{
 "cells": [
  {
   "cell_type": "markdown",
   "metadata": {},
   "source": [
    "<font face=\"Impact\" size=7>What Is Cloud Computing ? </font>"
   ]
  },
  {
   "cell_type": "markdown",
   "metadata": {},
   "source": [
    "---"
   ]
  },
  {
   "cell_type": "markdown",
   "metadata": {},
   "source": [
    "<font face=\"Ink Free\" size=4>**In our everyday life, we can see** <font face=\"Ink Free\" size=4 color=yellowgreen>***cloud computing*** </font> <font face=\"Ink Free\" size=4>**everywhere.**</font>\n"
   ]
  },
  {
   "cell_type": "markdown",
   "metadata": {},
   "source": [
    "<font face=\"Ink Free\" size=4>**Whenever you are uploading your datas or searching for information online, you are using** </font> <font face=\"Ink Free\" size=4 color=yellowgreen>***cloud computing***.</font> "
   ]
  },
  {
   "cell_type": "markdown",
   "metadata": {},
   "source": [
    "<font face=\"Ink Free\" size=4>**The way you use cloud computing is like an**  <font face=\"Ink Free\" size=4 color=sienna>***on-demand delivery***</font>**. You** <font face=\"Ink Free\" size=4 color=sienna>**click**</font> **a switch which is used to connect** <font face=\"Ink Free\" size=4 color=sienna>**computing, database and storage**</font>**. Then cloud computing can provide you with**<font face=\"Ink Free\" size=4 color=sienna>**various resources**</font> **and you can get these resources through your** <font face=\"Ink Free\" size=4 color=sienna>**smartphone or computer**.</font>"
   ]
  },
  {
   "cell_type": "markdown",
   "metadata": {},
   "source": [
    "<font face=\"Ink Free\" size=4>**In terms of cloud computing, we can list plenty of advantages. So lets see the advantages below.**</font>"
   ]
  },
  {
   "cell_type": "markdown",
   "metadata": {},
   "source": [
    "---"
   ]
  },
  {
   "cell_type": "markdown",
   "metadata": {},
   "source": [
    "![同一目录下的图片引用](./cloud.jpg)"
   ]
  },
  {
   "cell_type": "markdown",
   "metadata": {},
   "source": [
    "<font face=\"Sitka Text\" size=6 color=sandybeige>**Advantage 1**--</font><font face=\"Centaur\" size=5 color=thistle>***elastic and scalable***</font>"
   ]
  },
  {
   "cell_type": "markdown",
   "metadata": {},
   "source": [
    "<font face=\"Ink Free\" size=4>Being <font face=\"Ink Free\" size=4 color=thistle>**elastic and scalable**</font> <font face=\"Ink Free\" size=4>is one of its obvious advantages. Cloud computing makes our computer system more flexible and scalable.</font>"
   ]
  },
  {
   "cell_type": "markdown",
   "metadata": {},
   "source": [
    "<font face=\"Sitka Text\" size=6 color=sandybeige>**Advantage 2**--</font><font face=\"Centaur\" size=5 color=thistle>***speedy***</font>"
   ]
  },
  {
   "cell_type": "markdown",
   "metadata": {},
   "source": [
    "<font face=\"Ink Free\" size=4 color=thistle>**Speedy** </font><font face=\"Ink Free\" size=4>means cloud computing has its fast speed and agility.</font>"
   ]
  },
  {
   "cell_type": "markdown",
   "metadata": {},
   "source": [
    "<font face=\"Sitka Text\" size=6 color=sandybeige>**Advantage 3**--</font><font face=\"Centaur\" size=5 color=thistle>***global***</font>"
   ]
  },
  {
   "cell_type": "markdown",
   "metadata": {},
   "source": [
    "<font face=\"Ink Free\" size=4>By using cloud computing, you will find that your footprint wiil cover the whole world.</font>"
   ]
  },
  {
   "cell_type": "markdown",
   "metadata": {},
   "source": [
    "<font face=\"Sitka Text\" size=6 color=sandybeige>**Advantage 4**--</font><font face=\"Centaur\" size=5 color=thistle>***low cost***</font>"
   ]
  },
  {
   "cell_type": "markdown",
   "metadata": {},
   "source": [
    "<font face=\"Ink Free\" size=4>Because you can searching so much information online, it's such a good way for you to </font><font face=\"Ink Free\" size=4 color=thistle>**save money and time.**</font>"
   ]
  },
  {
   "cell_type": "markdown",
   "metadata": {},
   "source": [
    "<font face=\"Sitka Text\" size=6 color=sandybeige>**Advantage 5**--</font><font face=\"Centaur\" size=5 color=thistle>***pay as you go***</font>"
   ]
  },
  {
   "cell_type": "markdown",
   "metadata": {},
   "source": [
    "---"
   ]
  },
  {
   "cell_type": "markdown",
   "metadata": {},
   "source": [
    "<font face=\"Sitka Text\" size=4>**Above are all my explanations. Thanks for whatching!**</font>"
   ]
  },
  {
   "cell_type": "markdown",
   "metadata": {},
   "source": [
    "<h4 style=\"text-align:right\">2019级 CFA1班</h4>\n",
    "<h4 style=\"text-align:right\">41933089 谢语嫣</h4>"
   ]
  }
 ],
 "metadata": {
  "kernelspec": {
   "display_name": "Python 3",
   "language": "python",
   "name": "python3"
  },
  "language_info": {
   "codemirror_mode": {
    "name": "ipython",
    "version": 3
   },
   "file_extension": ".py",
   "mimetype": "text/x-python",
   "name": "python",
   "nbconvert_exporter": "python",
   "pygments_lexer": "ipython3",
   "version": "3.6.7"
  }
 },
 "nbformat": 4,
 "nbformat_minor": 2
}
